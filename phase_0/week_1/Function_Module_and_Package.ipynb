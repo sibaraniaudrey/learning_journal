{
  "nbformat": 4,
  "nbformat_minor": 0,
  "metadata": {
    "colab": {
      "name": "Function_Module_and_Package.ipynb",
      "provenance": [],
      "collapsed_sections": []
    },
    "kernelspec": {
      "name": "python3",
      "display_name": "Python 3"
    },
    "language_info": {
      "name": "python"
    }
  },
  "cells": [
    {
      "cell_type": "code",
      "execution_count": null,
      "metadata": {
        "id": "pnKCq7FjOAbn"
      },
      "outputs": [],
      "source": [
        "def function_name(parameters):\n",
        "  '''\n",
        "  docstring\n",
        "  '''\n",
        "  statement(s)"
      ]
    },
    {
      "cell_type": "code",
      "source": [
        "def fungsi_cetak(variabel,var2):\n",
        "  '''\n",
        "  ini adalah fungsi cetak\n",
        "  '''\n",
        "  print(f'saya ingin mencetak {variabel} dia adalah instruktur {var2}')"
      ],
      "metadata": {
        "id": "vxVSa1VrSDE8"
      },
      "execution_count": 7,
      "outputs": []
    },
    {
      "cell_type": "code",
      "source": [
        "fungsi_cetak('Rachman','Hacktiv8')"
      ],
      "metadata": {
        "colab": {
          "base_uri": "https://localhost:8080/"
        },
        "id": "fxwM05d7S0FC",
        "outputId": "9487917e-d96f-4772-b193-0d0927d9f539"
      },
      "execution_count": 8,
      "outputs": [
        {
          "output_type": "stream",
          "name": "stdout",
          "text": [
            "saya ingin mencetak Rachman dia adalah instruktur Hacktiv8\n"
          ]
        }
      ]
    },
    {
      "cell_type": "code",
      "source": [
        "fungsi_cetak('rachman')"
      ],
      "metadata": {
        "id": "_q5O7OhRTS3Z"
      },
      "execution_count": null,
      "outputs": []
    },
    {
      "cell_type": "code",
      "source": [
        "def fungsi_cetak(variabel,var2='Hacktiv8'):\n",
        "  '''\n",
        "  ini adalah fungsi cetak\n",
        "  '''\n",
        "  print(f'saya ingin mencetak {variabel} dia adalah instruktur {var2}')"
      ],
      "metadata": {
        "id": "okLTegnJTfCm"
      },
      "execution_count": 10,
      "outputs": []
    },
    {
      "cell_type": "code",
      "source": [
        "fungsi_cetak('rachman')"
      ],
      "metadata": {
        "colab": {
          "base_uri": "https://localhost:8080/"
        },
        "id": "Pckv-T-NTkRQ",
        "outputId": "1ed18e1f-07c4-4dad-8828-9eb35506d52e"
      },
      "execution_count": 11,
      "outputs": [
        {
          "output_type": "stream",
          "name": "stdout",
          "text": [
            "saya ingin mencetak rachman dia adalah instruktur Hacktiv8\n"
          ]
        }
      ]
    },
    {
      "cell_type": "code",
      "source": [
        "fungsi_cetak('Rachman','FTDS')"
      ],
      "metadata": {
        "colab": {
          "base_uri": "https://localhost:8080/"
        },
        "id": "pk2V6w3fTsIN",
        "outputId": "3dd453d9-90d9-453f-babe-235745bd8493"
      },
      "execution_count": 12,
      "outputs": [
        {
          "output_type": "stream",
          "name": "stdout",
          "text": [
            "saya ingin mencetak Rachman dia adalah instruktur FTDS\n"
          ]
        }
      ]
    },
    {
      "cell_type": "code",
      "source": [
        "fungsi_cetak(var2='hallo', variabel= 'Rachman')"
      ],
      "metadata": {
        "colab": {
          "base_uri": "https://localhost:8080/"
        },
        "id": "FIKTYfAJTzOq",
        "outputId": "8ee95362-f20c-445e-8335-f8516ec46a85"
      },
      "execution_count": 13,
      "outputs": [
        {
          "output_type": "stream",
          "name": "stdout",
          "text": [
            "saya ingin mencetak Rachman dia adalah instruktur hallo\n"
          ]
        }
      ]
    },
    {
      "cell_type": "code",
      "source": [
        "nama = 'rachman'\n",
        "sekolah = 'swasta'"
      ],
      "metadata": {
        "id": "lboR6idsUCZR"
      },
      "execution_count": 14,
      "outputs": []
    },
    {
      "cell_type": "code",
      "source": [
        "fungsi_cetak(variabel = nama, var2 = sekolah)"
      ],
      "metadata": {
        "colab": {
          "base_uri": "https://localhost:8080/"
        },
        "id": "m3ij8LfkURvc",
        "outputId": "f89aa90f-aade-4457-f8c6-77db998bd27b"
      },
      "execution_count": 15,
      "outputs": [
        {
          "output_type": "stream",
          "name": "stdout",
          "text": [
            "saya ingin mencetak rachman dia adalah instruktur swasta\n"
          ]
        }
      ]
    },
    {
      "cell_type": "code",
      "source": [
        "def changeme(mylist):\n",
        "  '''This changes a passed list into its function'''\n",
        "  mylist = mylist+[1,2,3,4]\n",
        "  print('\\nValuse inside the function: ', mylist)\n",
        "  return mylist"
      ],
      "metadata": {
        "id": "8L_DXlV0UyEN"
      },
      "execution_count": 5,
      "outputs": []
    },
    {
      "cell_type": "code",
      "source": [
        "mylist = [10,20,30]"
      ],
      "metadata": {
        "id": "_a7jgqhcUbeJ"
      },
      "execution_count": 6,
      "outputs": []
    },
    {
      "cell_type": "code",
      "source": [
        "mylist"
      ],
      "metadata": {
        "colab": {
          "base_uri": "https://localhost:8080/"
        },
        "id": "v4ldY1356fyN",
        "outputId": "d6df76db-c5be-43fd-dfb7-e379ac540e53"
      },
      "execution_count": 14,
      "outputs": [
        {
          "output_type": "execute_result",
          "data": {
            "text/plain": [
              "[1, 2, 3, 1, 2, 3, 4]"
            ]
          },
          "metadata": {},
          "execution_count": 14
        }
      ]
    },
    {
      "cell_type": "code",
      "source": [
        "changeme([1,2,3])"
      ],
      "metadata": {
        "colab": {
          "base_uri": "https://localhost:8080/"
        },
        "id": "P3sbwaIMUtNr",
        "outputId": "2f58e1f5-5b8d-432e-b985-98a0ab29e384"
      },
      "execution_count": 11,
      "outputs": [
        {
          "output_type": "stream",
          "name": "stdout",
          "text": [
            "\n",
            "Valuse inside the function:  [1, 2, 3, 1, 2, 3, 4]\n"
          ]
        },
        {
          "output_type": "execute_result",
          "data": {
            "text/plain": [
              "[1, 2, 3, 1, 2, 3, 4]"
            ]
          },
          "metadata": {},
          "execution_count": 11
        }
      ]
    },
    {
      "cell_type": "code",
      "source": [
        "mylist = changeme([1,2,3])"
      ],
      "metadata": {
        "colab": {
          "base_uri": "https://localhost:8080/"
        },
        "id": "_b0AfXQaVZkb",
        "outputId": "7494fda6-810a-4435-9db0-015b59a4e93c"
      },
      "execution_count": 13,
      "outputs": [
        {
          "output_type": "stream",
          "name": "stdout",
          "text": [
            "\n",
            "Valuse inside the function:  [1, 2, 3, 1, 2, 3, 4]\n"
          ]
        }
      ]
    },
    {
      "cell_type": "code",
      "source": [
        "def tambah(x,y):\n",
        "  print(x+y)\n",
        "  return x+y"
      ],
      "metadata": {
        "id": "Np2E8PXDWCla"
      },
      "execution_count": 27,
      "outputs": []
    },
    {
      "cell_type": "code",
      "source": [
        "tambah(5,2)"
      ],
      "metadata": {
        "colab": {
          "base_uri": "https://localhost:8080/"
        },
        "id": "kZjePz52WQzw",
        "outputId": "4fc3fa12-6a8d-4723-eeb1-e07f5d4118cc"
      },
      "execution_count": 28,
      "outputs": [
        {
          "output_type": "stream",
          "name": "stdout",
          "text": [
            "7\n"
          ]
        },
        {
          "output_type": "execute_result",
          "data": {
            "text/plain": [
              "7"
            ]
          },
          "metadata": {},
          "execution_count": 28
        }
      ]
    },
    {
      "cell_type": "code",
      "source": [
        "x = tambah(5,6)"
      ],
      "metadata": {
        "colab": {
          "base_uri": "https://localhost:8080/"
        },
        "id": "IYWN1W2XWjpK",
        "outputId": "8c9e6b3e-5d30-4138-f88e-4e8169131086"
      },
      "execution_count": 29,
      "outputs": [
        {
          "output_type": "stream",
          "name": "stdout",
          "text": [
            "11\n"
          ]
        }
      ]
    },
    {
      "cell_type": "code",
      "source": [
        "x"
      ],
      "metadata": {
        "colab": {
          "base_uri": "https://localhost:8080/"
        },
        "id": "6N4dyfsxWnY0",
        "outputId": "3b4b6dca-6e6a-47ef-9d56-1c82e7c78fdc"
      },
      "execution_count": 30,
      "outputs": [
        {
          "output_type": "execute_result",
          "data": {
            "text/plain": [
              "11"
            ]
          },
          "metadata": {},
          "execution_count": 30
        }
      ]
    },
    {
      "cell_type": "code",
      "source": [
        "type(x)"
      ],
      "metadata": {
        "colab": {
          "base_uri": "https://localhost:8080/"
        },
        "id": "5ckYLDuPWohR",
        "outputId": "3d4f4dbd-b2ff-4bd4-9f82-6d0b39e2fdcc"
      },
      "execution_count": 31,
      "outputs": [
        {
          "output_type": "execute_result",
          "data": {
            "text/plain": [
              "int"
            ]
          },
          "metadata": {},
          "execution_count": 31
        }
      ]
    },
    {
      "cell_type": "code",
      "source": [
        "x = list(range(1,20))"
      ],
      "metadata": {
        "id": "KB4bgJGHXF2V"
      },
      "execution_count": 32,
      "outputs": []
    },
    {
      "cell_type": "code",
      "source": [
        "x"
      ],
      "metadata": {
        "colab": {
          "base_uri": "https://localhost:8080/"
        },
        "id": "g3sk_SlbXNSj",
        "outputId": "c4d02c98-d55b-4d78-de2a-87701d4fc83d"
      },
      "execution_count": 33,
      "outputs": [
        {
          "output_type": "execute_result",
          "data": {
            "text/plain": [
              "[1, 2, 3, 4, 5, 6, 7, 8, 9, 10, 11, 12, 13, 14, 15, 16, 17, 18, 19]"
            ]
          },
          "metadata": {},
          "execution_count": 33
        }
      ]
    },
    {
      "cell_type": "code",
      "source": [
        "def deteksi_angka (x):\n",
        "  if x % 2 == 0:\n",
        "    print('ini adalah angka genap')\n",
        "  else:\n",
        "    print('ini adalah angka ganjil')\n",
        "    "
      ],
      "metadata": {
        "id": "dDS99eSwXcmq"
      },
      "execution_count": 15,
      "outputs": []
    },
    {
      "cell_type": "code",
      "source": [
        "deteksi_angka(9)"
      ],
      "metadata": {
        "colab": {
          "base_uri": "https://localhost:8080/"
        },
        "id": "6U0E8X958JN6",
        "outputId": "69cb449f-3d00-4df9-9fd5-e29b14b90b72"
      },
      "execution_count": 16,
      "outputs": [
        {
          "output_type": "stream",
          "name": "stdout",
          "text": [
            "ini adalah angka ganjil\n"
          ]
        }
      ]
    },
    {
      "cell_type": "code",
      "source": [
        "def tambah (x,y,z):\n",
        "  return x+y"
      ],
      "metadata": {
        "id": "KN5ysNzA8cIG"
      },
      "execution_count": 20,
      "outputs": []
    },
    {
      "cell_type": "code",
      "source": [
        "tambah(8,9,9)"
      ],
      "metadata": {
        "colab": {
          "base_uri": "https://localhost:8080/"
        },
        "id": "T2HSWSr88jA1",
        "outputId": "68484d7c-03d0-488f-8ec9-90d05fcf2764"
      },
      "execution_count": 22,
      "outputs": [
        {
          "output_type": "execute_result",
          "data": {
            "text/plain": [
              "17"
            ]
          },
          "metadata": {},
          "execution_count": 22
        }
      ]
    },
    {
      "cell_type": "code",
      "source": [
        "def tambah (*args):\n",
        "  return sum(args)"
      ],
      "metadata": {
        "id": "nsiTcZTw8nl0"
      },
      "execution_count": 27,
      "outputs": []
    },
    {
      "cell_type": "code",
      "source": [
        "tambah(19,10,29,29,29)"
      ],
      "metadata": {
        "colab": {
          "base_uri": "https://localhost:8080/"
        },
        "id": "zedfYqhO9AQq",
        "outputId": "436a2300-fec0-4b70-fc86-00e1a2d506bc"
      },
      "execution_count": 28,
      "outputs": [
        {
          "output_type": "execute_result",
          "data": {
            "text/plain": [
              "116"
            ]
          },
          "metadata": {},
          "execution_count": 28
        }
      ]
    },
    {
      "cell_type": "code",
      "source": [
        "def bmi_calculator(nama,berat,tinggi):\n",
        "  bmi = berat/(tinggi**2)\n",
        "  if bmi < 18.5:\n",
        "    print(f'{nama}score bmi anda adalah {bmi} anda underweight')\n",
        "  elif bmi >= 18.5 and bmi <= 24.9:\n",
        "    print(f'{nama} score bmi anda adalah {bmi} anda normal')\n",
        "  else:\n",
        "    print(f'{nama} score bmi anda adalah {bmi} anda overweight')"
      ],
      "metadata": {
        "id": "M-bXZJmY_GCZ"
      },
      "execution_count": 43,
      "outputs": []
    },
    {
      "cell_type": "code",
      "source": [
        "nama = input('ketikkan nama anda: ')\n",
        "berat = int(input('ketikkan berat anda: '))\n",
        "tinggi = float(input('ketikkan tinggi anda: '))\n",
        "\n",
        "# berat = int(berat)\n",
        "# 65tinggi = float(tinggi)\n",
        "\n",
        "bmi_calculator(nama=nama,berat=berat,tinggi=tinggi)"
      ],
      "metadata": {
        "colab": {
          "base_uri": "https://localhost:8080/"
        },
        "id": "Dn1rXDMcBvfu",
        "outputId": "72d47c21-2e68-42fc-b049-0e29e26f8146"
      },
      "execution_count": 47,
      "outputs": [
        {
          "output_type": "stream",
          "name": "stdout",
          "text": [
            "ketikkan nama anda: Audrey\n",
            "ketikkan berat anda: 65\n",
            "ketikkan tinggi anda: 1.6\n",
            "Audrey score bmi anda adalah 25.390624999999996 anda overweight\n"
          ]
        }
      ]
    },
    {
      "cell_type": "code",
      "source": [
        "nama = input('masukkan Audrey: ')\n"
      ],
      "metadata": {
        "colab": {
          "base_uri": "https://localhost:8080/"
        },
        "id": "_nLWzxDwDRlk",
        "outputId": "988ef6cd-436e-4336-9272-912c6792bebc"
      },
      "execution_count": 71,
      "outputs": [
        {
          "name": "stdout",
          "output_type": "stream",
          "text": [
            "masukkan Audrey: law\n"
          ]
        }
      ]
    },
    {
      "cell_type": "code",
      "source": [
        "nama"
      ],
      "metadata": {
        "colab": {
          "base_uri": "https://localhost:8080/",
          "height": 35
        },
        "id": "sZNZebrMDvog",
        "outputId": "d31dd94c-b450-4211-f94d-48ccd6e02430"
      },
      "execution_count": 72,
      "outputs": [
        {
          "output_type": "execute_result",
          "data": {
            "text/plain": [
              "'law'"
            ],
            "application/vnd.google.colaboratory.intrinsic+json": {
              "type": "string"
            }
          },
          "metadata": {},
          "execution_count": 72
        }
      ]
    },
    {
      "cell_type": "code",
      "source": [
        "def deteksi_nama(nama):\n",
        "  return nama == 'Audrey'"
      ],
      "metadata": {
        "id": "IVayvCEeDyPy"
      },
      "execution_count": 73,
      "outputs": []
    },
    {
      "cell_type": "code",
      "source": [
        "deteksi_nama(nama)"
      ],
      "metadata": {
        "colab": {
          "base_uri": "https://localhost:8080/"
        },
        "id": "UKkSEtFwEZ4t",
        "outputId": "089ef6cf-c37d-406a-de83-61d91138456f"
      },
      "execution_count": 74,
      "outputs": [
        {
          "output_type": "execute_result",
          "data": {
            "text/plain": [
              "False"
            ]
          },
          "metadata": {},
          "execution_count": 74
        }
      ]
    },
    {
      "cell_type": "code",
      "source": [
        "name = input('masukkan Audrey: ')\n"
      ],
      "metadata": {
        "colab": {
          "base_uri": "https://localhost:8080/"
        },
        "id": "SzV64sK7F3Gb",
        "outputId": "459cadf8-0d17-4903-d1da-ecf4ce5096c7"
      },
      "execution_count": 75,
      "outputs": [
        {
          "name": "stdout",
          "output_type": "stream",
          "text": [
            "masukkan Audrey: nama saya Audrey\n"
          ]
        }
      ]
    },
    {
      "cell_type": "code",
      "source": [
        "name"
      ],
      "metadata": {
        "colab": {
          "base_uri": "https://localhost:8080/",
          "height": 35
        },
        "id": "binHP98WGLyX",
        "outputId": "0cbae5b9-96f5-416c-8cba-725103959d1d"
      },
      "execution_count": 76,
      "outputs": [
        {
          "output_type": "execute_result",
          "data": {
            "text/plain": [
              "'nama saya Audrey'"
            ],
            "application/vnd.google.colaboratory.intrinsic+json": {
              "type": "string"
            }
          },
          "metadata": {},
          "execution_count": 76
        }
      ]
    },
    {
      "cell_type": "code",
      "source": [
        "def deteksi_nama(name):\n",
        "  for x in str(name):\n",
        "    if x == 'Audrey':\n",
        "      return name == 'Audrey'\n",
        "  return name == 'Audrey'"
      ],
      "metadata": {
        "id": "6xTUc3AnGRp1"
      },
      "execution_count": 102,
      "outputs": []
    },
    {
      "cell_type": "code",
      "source": [
        "deteksi_nama(name)"
      ],
      "metadata": {
        "colab": {
          "base_uri": "https://localhost:8080/"
        },
        "id": "t8OJYUisG1cY",
        "outputId": "df35999c-3cb5-4412-f9fb-ec257ae16f4d"
      },
      "execution_count": 103,
      "outputs": [
        {
          "output_type": "execute_result",
          "data": {
            "text/plain": [
              "False"
            ]
          },
          "metadata": {},
          "execution_count": 103
        }
      ]
    }
  ]
}